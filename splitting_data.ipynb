{
 "cells": [
  {
   "cell_type": "code",
   "execution_count": 1,
   "id": "c1057662-bcc1-495a-a09a-18aa84237ba6",
   "metadata": {},
   "outputs": [],
   "source": [
    "import os\n",
    "import random\n",
    "import shutil\n",
    "\n",
    "# seed for reproducibility\n",
    "random.seed(42)"
   ]
  },
  {
   "cell_type": "markdown",
   "id": "76fa2a91-7eb4-4470-8067-f72ccdbd569a",
   "metadata": {},
   "source": [
    "Splitting the data into train and test sets:"
   ]
  },
  {
   "cell_type": "code",
   "execution_count": 3,
   "id": "320786f4-86e2-4344-a270-c79b4708850b",
   "metadata": {},
   "outputs": [],
   "source": [
    "# creating the necessary directories\n",
    "source_dir = 'data/frames'\n",
    "eyes_open_dir = os.path.join(source_dir, 'eyes_open')\n",
    "eyes_closed_dir = os.path.join(source_dir, 'eyes_closed')\n",
    "yawning_dir = os.path.join(source_dir, 'yawning')\n",
    "\n",
    "train_dir = 'final_dataset/images/train'\n",
    "val_dir = 'final_dataset/images/val'\n",
    "\n",
    "os.makedirs(train_dir, exist_ok=True)\n",
    "os.makedirs(val_dir, exist_ok=True)\n",
    "\n",
    "for class_name in ['eyes_open', 'eyes_closed', 'yawning']:\n",
    "    os.makedirs(os.path.join(train_dir, class_name), exist_ok=True)\n",
    "    os.makedirs(os.path.join(val_dir, class_name), exist_ok=True)"
   ]
  },
  {
   "cell_type": "code",
   "execution_count": 4,
   "id": "48ba1946-f66a-4393-be6b-d3161142b016",
   "metadata": {},
   "outputs": [],
   "source": [
    "def split_data(source_class_dir, train_class_dir, val_class_dir, val_split=0.2):\n",
    "    files = os.listdir(source_class_dir)\n",
    "    \n",
    "    image_files = [f for f in files if f.endswith('.jpg')]\n",
    "    \n",
    "    random.shuffle(image_files)\n",
    "    \n",
    "    num_val = int(len(image_files) * val_split)\n",
    "    val_files = image_files[:num_val]\n",
    "    train_files = image_files[num_val:]\n",
    "    \n",
    "    for f in train_files:\n",
    "        shutil.copy(os.path.join(source_class_dir, f), os.path.join(train_class_dir, f))\n",
    "        shutil.copy(os.path.join(source_class_dir, f.replace('.jpg', '.txt')), os.path.join(train_class_dir, f.replace('.jpg', '.txt')))\n",
    "    \n",
    "    for f in val_files:\n",
    "        shutil.copy(os.path.join(source_class_dir, f), os.path.join(val_class_dir, f))\n",
    "        shutil.copy(os.path.join(source_class_dir, f.replace('.jpg', '.txt')), os.path.join(val_class_dir, f.replace('.jpg', '.txt')))\n"
   ]
  },
  {
   "cell_type": "code",
   "execution_count": 5,
   "id": "5ded6371-7b60-4823-9d3c-14ae1acbcc98",
   "metadata": {},
   "outputs": [],
   "source": [
    "split_data(eyes_open_dir, os.path.join(train_dir, 'eyes_open'), os.path.join(val_dir, 'eyes_open'))\n",
    "split_data(eyes_closed_dir, os.path.join(train_dir, 'eyes_closed'), os.path.join(val_dir, 'eyes_closed'))\n",
    "split_data(yawning_dir, os.path.join(train_dir, 'yawning'), os.path.join(val_dir, 'yawning'))"
   ]
  },
  {
   "cell_type": "code",
   "execution_count": null,
   "id": "2b00d266-941f-4adc-8627-ec78911dbe14",
   "metadata": {},
   "outputs": [],
   "source": []
  }
 ],
 "metadata": {
  "kernelspec": {
   "display_name": "Python [conda env:base] *",
   "language": "python",
   "name": "conda-base-py"
  },
  "language_info": {
   "codemirror_mode": {
    "name": "ipython",
    "version": 3
   },
   "file_extension": ".py",
   "mimetype": "text/x-python",
   "name": "python",
   "nbconvert_exporter": "python",
   "pygments_lexer": "ipython3",
   "version": "3.12.7"
  }
 },
 "nbformat": 4,
 "nbformat_minor": 5
}
